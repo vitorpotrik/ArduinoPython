{
 "cells": [
  {
   "cell_type": "markdown",
   "id": "1247e493-aed5-4557-b1b6-87146d981bb8",
   "metadata": {},
   "source": [
    "## Código Python"
   ]
  },
  {
   "cell_type": "code",
   "execution_count": null,
   "id": "99f52604-0018-4822-8e37-7079453d3cda",
   "metadata": {},
   "outputs": [],
   "source": [
    "import tkinter as tk\n",
    "import serial\n",
    "\n",
    "# Configura a conexão serial com o Arduino\n",
    "arduino = serial.Serial('COM4', 9600)\n",
    "\n",
    "def led_on():\n",
    "    arduino.write(b'1')  # Envia o comando '1' para o Arduino\n",
    "    status_label.config(text=\"LED is Blinking\", bg=\"green\", fg=\"white\")\n",
    "    on_button.config(bg=\"green\", activebackground=\"dark green\")\n",
    "    off_button.config(bg=\"white\", activebackground=\"white\")\n",
    "\n",
    "def led_off():\n",
    "    arduino.write(b'0')  # Envia o comando '0' para o Arduino\n",
    "    status_label.config(text=\"LED is OFF\", bg=\"red\", fg=\"white\")\n",
    "    on_button.config(bg=\"white\", activebackground=\"white\")\n",
    "    off_button.config(bg=\"red\", activebackground=\"dark red\")\n",
    "\n",
    "# Configuração da interface gráfica\n",
    "window = tk.Tk()\n",
    "window.title(\"Controle de LED com Python\")\n",
    "\n",
    "# Adiciona uma borda de 2px ao redor da janela\n",
    "window.configure(highlightbackground=\"black\", highlightthickness=2)\n",
    "\n",
    "on_button = tk.Button(window, text=\"Ligar LED\", command=led_on, borderwidth=5, relief=\"raised\", bg=\"white\")\n",
    "on_button.pack(pady=10)\n",
    "\n",
    "off_button = tk.Button(window, text=\"Desligar LED\", command=led_off, borderwidth=5, relief=\"raised\", bg=\"white\")\n",
    "off_button.pack(pady=10)\n",
    "\n",
    "status_label = tk.Label(window, text=\"LED is OFF\", bg=\"white\")\n",
    "status_label.pack(pady=10)\n",
    "\n",
    "window.mainloop()\n"
   ]
  },
  {
   "cell_type": "markdown",
   "id": "a0270244-3254-47ac-908b-a4c2158bd31d",
   "metadata": {},
   "source": [
    "## Código para testar a porta usada pelo arduino"
   ]
  },
  {
   "cell_type": "code",
   "execution_count": null,
   "id": "0d847190-547b-47b8-b506-1cab690c7204",
   "metadata": {},
   "outputs": [],
   "source": [
    "import serial.tools.list_ports\n",
    "\n",
    "ports = list(serial.tools.list_ports.comports())\n",
    "for p in ports:\n",
    "    print(p)"
   ]
  }
 ],
 "metadata": {
  "kernelspec": {
   "display_name": "Python 3 (ipykernel)",
   "language": "python",
   "name": "python3"
  },
  "language_info": {
   "codemirror_mode": {
    "name": "ipython",
    "version": 3
   },
   "file_extension": ".py",
   "mimetype": "text/x-python",
   "name": "python",
   "nbconvert_exporter": "python",
   "pygments_lexer": "ipython3",
   "version": "3.12.3"
  }
 },
 "nbformat": 4,
 "nbformat_minor": 5
}
