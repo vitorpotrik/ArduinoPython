{
 "cells": [
  {
   "cell_type": "code",
   "execution_count": null,
   "id": "306c4a2c-3671-446a-a147-686cc01bd243",
   "metadata": {},
   "outputs": [],
   "source": [
    "import tkinter as tk\n",
    "import serial\n",
    "\n",
    "# Configura a conexão serial com o Arduino\n",
    "arduino = serial.Serial('COM4', 9600)  # Altere 'COM4' para a porta correta do seu Arduino\n",
    "\n",
    "def led_on():\n",
    "    arduino.write(b'1')  # Envia o comando '1' para o Arduino para ligar o LED\n",
    "    status_label.config(text=\"LED is ON\", bg=\"green\")  # Atualiza o texto e a cor de fundo do label de status\n",
    "\n",
    "def led_off():\n",
    "    arduino.write(b'0')  # Envia o comando '0' para o Arduino para desligar o LED\n",
    "    status_label.config(text=\"LED is OFF\", bg=\"red\")  # Atualiza o texto e a cor de fundo do label de status\n",
    "\n",
    "# Configuração da interface gráfica\n",
    "window = tk.Tk()\n",
    "window.title(\"Controle de LED com Python\")  # Define o título da janela\n",
    "window.configure(borderwidth=2, relief=\"solid\")  # Adiciona uma borda sólida de 2 pixels ao redor da janela\n",
    "\n",
    "# Adiciona um título na janela\n",
    "title_label = tk.Label(window, text=\"Controle de LED com Python\", font=(\"Helvetica\", 16, \"bold\"))\n",
    "title_label.pack(pady=10)  # Adiciona o label ao topo da janela com padding vertical de 10 pixels\n",
    "\n",
    "# Cria um frame para a moldura dos botões\n",
    "button_frame = tk.Frame(window, borderwidth=2, relief=\"groove\")\n",
    "button_frame.pack(pady=10, padx=10, fill=\"both\", expand=True)  # Adiciona o frame à janela com padding interno e externo\n",
    "\n",
    "# Adiciona o título da moldura dos botões\n",
    "frame_title_label = tk.Label(button_frame, text=\"Controle do LED\", font=(\"Helvetica\", 12, \"bold\"))\n",
    "frame_title_label.grid(row=0, column=3, columnspan=2, pady=5)  # Adiciona o label ao topo do frame dos botões com padding\n",
    "\n",
    "# Adiciona botões ao frame com layout de grid\n",
    "on_button = tk.Button(button_frame, text=\"Ligar LED\", command=led_on, bg=\"white\", borderwidth=2)\n",
    "on_button.grid(row=1, column=4, padx=20, pady=5)  # Adiciona o botão \"Ligar LED\" ao frame com padding interno e externo\n",
    "\n",
    "off_button = tk.Button(button_frame, text=\"Desligar LED\", command=led_off, bg=\"white\", borderwidth=2)\n",
    "off_button.grid(row=1, column=3, padx=20, pady=5)  # Adiciona o botão \"Desligar LED\" ao frame com padding interno e externo\n",
    "\n",
    "# Adiciona um label para mostrar o status do LED\n",
    "status_label = tk.Label(window, text=\"LED is OFF\", bg=\"white\")\n",
    "status_label.pack(pady=10)  # Adiciona o label de status à janela com padding vertical de 10 pixels\n",
    "\n",
    "window.mainloop()  # Inicia o loop principal da interface gráfica"
   ]
  }
 ],
 "metadata": {
  "kernelspec": {
   "display_name": "Python 3 (ipykernel)",
   "language": "python",
   "name": "python3"
  },
  "language_info": {
   "codemirror_mode": {
    "name": "ipython",
    "version": 3
   },
   "file_extension": ".py",
   "mimetype": "text/x-python",
   "name": "python",
   "nbconvert_exporter": "python",
   "pygments_lexer": "ipython3",
   "version": "3.12.3"
  }
 },
 "nbformat": 4,
 "nbformat_minor": 5
}
