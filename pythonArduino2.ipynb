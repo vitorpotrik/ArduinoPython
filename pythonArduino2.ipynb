import tkinter as tk
import serial

# Configura a conexão serial com o Arduino
arduino = serial.Serial('COM4', 9600)  # Altere 'COM4' para a porta correta do seu Arduino

def led_on():
    arduino.write(b'1')  # Envia o comando '1' para o Arduino para ligar o LED
    status_label.config(text="LED is ON", bg="green")  # Atualiza o texto e a cor de fundo do label de status

def led_off():
    arduino.write(b'0')  # Envia o comando '0' para o Arduino para desligar o LED
    status_label.config(text="LED is OFF", bg="red")  # Atualiza o texto e a cor de fundo do label de status

# Configuração da interface gráfica
window = tk.Tk()
window.title("Controle de LED com Python")  # Define o título da janela
window.configure(borderwidth=2, relief="solid")  # Adiciona uma borda sólida de 2 pixels ao redor da janela

# Adiciona um título na janela
title_label = tk.Label(window, text="Controle de LED com Python", font=("Helvetica", 16, "bold"))
title_label.pack(pady=10)  # Adiciona o label ao topo da janela com padding vertical de 10 pixels

# Cria um frame para a moldura dos botões
button_frame = tk.Frame(window, borderwidth=2, relief="groove")
button_frame.pack(pady=10, padx=10, fill="both", expand=True)  # Adiciona o frame à janela com padding interno e externo

# Adiciona o título da moldura dos botões
frame_title_label = tk.Label(button_frame, text="Controle do LED", font=("Helvetica", 12, "bold"))
frame_title_label.grid(row=0, column=3, columnspan=2, pady=5)  # Adiciona o label ao topo do frame dos botões com padding

# Adiciona botões ao frame com layout de grid
on_button = tk.Button(button_frame, text="Ligar LED", command=led_on, bg="white", borderwidth=2)
on_button.grid(row=1, column=4, padx=20, pady=5)  # Adiciona o botão "Ligar LED" ao frame com padding interno e externo

off_button = tk.Button(button_frame, text="Desligar LED", command=led_off, bg="white", borderwidth=2)
off_button.grid(row=1, column=3, padx=20, pady=5)  # Adiciona o botão "Desligar LED" ao frame com padding interno e externo

# Adiciona um label para mostrar o status do LED
status_label = tk.Label(window, text="LED is OFF", bg="white")
status_label.pack(pady=10)  # Adiciona o label de status à janela com padding vertical de 10 pixels

window.mainloop()  # Inicia o loop principal da interface gráfica
